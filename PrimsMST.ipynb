{
 "cells": [
  {
   "cell_type": "code",
   "execution_count": 158,
   "metadata": {},
   "outputs": [],
   "source": [
    "import os\n",
    "import numpy as np \n",
    "import heapq\n",
   ]
  },
  {
   "cell_type": "code",
   "execution_count": 159,
   "metadata": {
    "tags": []
   },
   "outputs": [],
   "source": [
    "lines = open('jobs.txt', 'r')\n",
    "total_jobs = lines.readline()\n",
    "jobs = []\n",
    "priorities = []\n",
    "weight= []\n",
    "length = []\n",
    "for line in lines:\n",
    "    job = {}\n",
    "    w, l = line.split()\n",
    "    priorities.append(int(w)-int(l))\n",
    "    weight.append(int(w))\n",
    "    length.append(int(l))\n",
    "    jobs.append((int(w)-int(l), (int(w), int(l))))"
   ]
  },
  {
   "cell_type": "code",
   "execution_count": 160,
   "metadata": {},
   "outputs": [
    {
     "output_type": "execute_result",
     "data": {
      "text/plain": "69119377652"
     },
     "metadata": {},
     "execution_count": 160
    }
   ],
   "source": [
    "# weight - length\n",
    "jobs_list = sorted(jobs,reverse=True)\n",
    "weighted_sum = 0\n",
    "running_length = 0\n",
    "for job in jobs_list:\n",
    "    running_length +=job[1][1]\n",
    "    weighted_sum += job[1][0]*running_length\n",
    "weighted_sum"
   ]
  },
  {
   "cell_type": "code",
   "execution_count": 161,
   "metadata": {},
   "outputs": [
    {
     "output_type": "execute_result",
     "data": {
      "text/plain": "67311454237"
     },
     "metadata": {},
     "execution_count": 161
    }
   ],
   "source": [
    "# weight/ length\n",
    "lines = open('jobs.txt', 'r')\n",
    "total_jobs = lines.readline()\n",
    "jobs = []\n",
    "for line in lines:\n",
    "    w, l = line.split()\n",
    "    job = (int(w)/int(l),(int(w), int(l)))\n",
    "    jobs.append(job)\n",
    "jobs_list = sorted(jobs,reverse=True)\n",
    "weighted_sum = 0\n",
    "running_length = 0\n",
    "for job in jobs_list:\n",
    "    running_length +=job[1][1]\n",
    "    weighted_sum += job[1][0]*running_length\n",
    "weighted_sum\n"
   ]
  },
  {
   "cell_type": "code",
   "execution_count": 174,
   "metadata": {
    "tags": []
   },
   "outputs": [
    {
     "output_type": "stream",
     "name": "stdout",
     "text": "(402, 401)\n(295, 88)\n(490, 295)\n(254, 253)\n(421, 420)\n(197, 199)\n(475, 190)\n(202, 373)\n(459, 242)\n(184, 150)\n(1, 103)\n(274, 273)\n(18, 327)\n(95, 94)\n(121, 304)\n(96, 387)\n(145, 110)\n(11, 12)\n(168, 448)\n(288, 296)\n(120, 181)\n(224, 188)\n(178, 179)\n(335, 245)\n(477, 104)\n(171, 210)\n(465, 207)\n(194, 195)\n(342, 487)\n(291, 462)\n(362, 361)\n(469, 372)\n(51, 162)\n(105, 80)\n(213, 214)\n(137, 268)\n(388, 410)\n(254, 439)\n(82, 307)\n(234, 233)\n(172, 1)\n(263, 264)\n(487, 166)\n(170, 371)\n(116, 117)\n(80, 39)\n(60, 28)\n(110, 54)\n(453, 365)\n(275, 475)\n(303, 137)\n(84, 362)\n(435, 252)\n(376, 160)\n(441, 383)\n(218, 85)\n(102, 351)\n(365, 25)\n(197, 185)\n(374, 491)\n(85, 212)\n(220, 221)\n(43, 42)\n(21, 155)\n(155, 146)\n(458, 105)\n(328, 406)\n(465, 125)\n(62, 61)\n(397, 480)\n(61, 172)\n(319, 169)\n(140, 428)\n(392, 391)\n(421, 422)\n(243, 244)\n(359, 458)\n(306, 353)\n(279, 278)\n(285, 499)\n(442, 441)\n(452, 326)\n(121, 4)\n(452, 343)\n(146, 96)\n(121, 38)\n(211, 285)\n(458, 457)\n(351, 20)\n(146, 147)\n(490, 216)\n(271, 495)\n(297, 493)\n(291, 77)\n(201, 200)\n(359, 360)\n(468, 81)\n(54, 53)\n(312, 79)\n(357, 394)\n(155, 30)\n(264, 165)\n(276, 325)\n(457, 248)\n(410, 333)\n(42, 41)\n(413, 414)\n(168, 33)\n(155, 485)\n(397, 398)\n(163, 246)\n(432, 399)\n(251, 157)\n(123, 122)\n(150, 260)\n(432, 433)\n(397, 449)\n(1, 308)\n(266, 62)\n(299, 156)\n(420, 434)\n(398, 423)\n(142, 141)\n(127, 411)\n(366, 379)\n(115, 144)\n(131, 109)\n(156, 123)\n(317, 128)\n(441, 453)\n(121, 258)\n(468, 467)\n(338, 174)\n(365, 431)\n(472, 471)\n(345, 194)\n(289, 183)\n(462, 472)\n(258, 45)\n(175, 176)\n(125, 138)\n(192, 451)\n(373, 374)\n(263, 350)\n(82, 444)\n(225, 226)\n(396, 342)\n(425, 424)\n(175, 10)\n(411, 298)\n(147, 63)\n(397, 282)\n(307, 388)\n(312, 116)\n(442, 443)\n(468, 152)\n(132, 133)\n(152, 497)\n(312, 486)\n(181, 192)\n(364, 132)\n(102, 220)\n(316, 315)\n(102, 271)\n(45, 213)\n(172, 171)\n(201, 202)\n(453, 102)\n(2, 90)\n(290, 436)\n(186, 187)\n(356, 319)\n(78, 180)\n(396, 158)\n(385, 384)\n(114, 19)\n(101, 182)\n(362, 131)\n(125, 392)\n(131, 294)\n(337, 168)\n(304, 154)\n(123, 124)\n(82, 60)\n(434, 435)\n(475, 397)\n(286, 287)\n(299, 494)\n(58, 402)\n(174, 204)\n(421, 74)\n(453, 488)\n(64, 231)\n(439, 438)\n(129, 464)\n(468, 469)\n(334, 18)\n(461, 249)\n(158, 159)\n(257, 56)\n(467, 346)\n(313, 454)\n(381, 337)\n(14, 15)\n(45, 46)\n(397, 370)\n(9, 389)\n(375, 376)\n(381, 120)\n(473, 367)\n(15, 274)\n(351, 76)\n(169, 217)\n(195, 91)\n(33, 455)\n(365, 364)\n(264, 68)\n(396, 395)\n(365, 381)\n(210, 442)\n(440, 297)\n(30, 106)\n(372, 112)\n(420, 235)\n(444, 445)\n(219, 318)\n(266, 267)\n(39, 335)\n(432, 17)\n(460, 461)\n(197, 22)\n(130, 203)\n(498, 300)\n(29, 323)\n(257, 225)\n(7, 6)\n(285, 286)\n(247, 481)\n(318, 317)\n(397, 101)\n(484, 67)\n(375, 426)\n(405, 198)\n(81, 3)\n(174, 173)\n(364, 14)\n(468, 421)\n(474, 55)\n(2, 143)\n(18, 366)\n(364, 99)\n(123, 7)\n(267, 236)\n(237, 145)\n(99, 201)\n(196, 115)\n(96, 95)\n(379, 72)\n(495, 193)\n(466, 289)\n(219, 134)\n(87, 452)\n(130, 321)\n(76, 403)\n(276, 277)\n(54, 73)\n(441, 440)\n(131, 130)\n(51, 184)\n(68, 301)\n(311, 473)\n(342, 292)\n(452, 316)\n(396, 227)\n(150, 149)\n(117, 347)\n(443, 240)\n(35, 36)\n(184, 358)\n(377, 378)\n(172, 427)\n(386, 186)\n(71, 211)\n(246, 118)\n(496, 35)\n(253, 279)\n(117, 164)\n(219, 218)\n(415, 416)\n(446, 447)\n(286, 139)\n(495, 111)\n(40, 65)\n(169, 70)\n(146, 136)\n(343, 299)\n(448, 293)\n(232, 276)\n(287, 288)\n(481, 482)\n(238, 390)\n(174, 175)\n(101, 386)\n(469, 312)\n(229, 314)\n(0, 396)\n(309, 340)\n(337, 338)\n(471, 470)\n(463, 266)\n(431, 205)\n(367, 97)\n(358, 357)\n(91, 408)\n(491, 459)\n(332, 57)\n(203, 466)\n(222, 98)\n(91, 140)\n(225, 148)\n(153, 189)\n(365, 284)\n(31, 375)\n(353, 127)\n(60, 87)\n(14, 219)\n(231, 330)\n(309, 310)\n(202, 82)\n(328, 329)\n(491, 492)\n(351, 331)\n(297, 417)\n(232, 262)\n(27, 26)\n(367, 368)\n(400, 479)\n(163, 404)\n(355, 228)\n(306, 8)\n(81, 93)\n(451, 496)\n(227, 385)\n(44, 352)\n(227, 49)\n(469, 64)\n(397, 322)\n(93, 92)\n(335, 460)\n(48, 483)\n(93, 126)\n(233, 197)\n(12, 23)\n(203, 230)\n(258, 135)\n(94, 83)\n(3, 363)\n(457, 456)\n(140, 418)\n(339, 306)\n(266, 407)\n(30, 29)\n(415, 320)\n(432, 191)\n(382, 336)\n(197, 196)\n(427, 178)\n(340, 229)\n(387, 37)\n(474, 463)\n(131, 215)\n(182, 40)\n(431, 275)\n(94, 48)\n(151, 413)\n(481, 432)\n(62, 21)\n(226, 151)\n(99, 290)\n(355, 465)\n(192, 477)\n(497, 328)\n(86, 121)\n(438, 270)\n(61, 234)\n(109, 89)\n(237, 51)\n(259, 478)\n(136, 490)\n(447, 256)\n(35, 291)\n(151, 59)\n(430, 309)\n(168, 393)\n(225, 86)\n(497, 498)\n(8, 9)\n(245, 437)\n(137, 430)\n(476, 313)\n(343, 355)\n(169, 223)\n(234, 412)\n(419, 369)\n(466, 75)\n(492, 409)\n(44, 303)\n(157, 58)\n(273, 272)\n(364, 425)\n(240, 241)\n(398, 167)\n(21, 84)\n(300, 32)\n(262, 261)\n(326, 50)\n(96, 484)\n(158, 334)\n(339, 257)\n(112, 113)\n(45, 170)\n(218, 13)\n(488, 489)\n(281, 280)\n(30, 31)\n(287, 24)\n(162, 163)\n(105, 377)\n(473, 474)\n(87, 476)\n(363, 114)\n(308, 345)\n(281, 348)\n(15, 16)\n(152, 71)\n(217, 243)\n(166, 311)\n(224, 34)\n(21, 100)\n(93, 446)\n(125, 400)\n(350, 349)\n(68, 69)\n(201, 44)\n(379, 380)\n(233, 232)\n(296, 5)\n(448, 250)\n(42, 153)\n(324, 419)\n(320, 356)\n(64, 108)\n(274, 237)\n(164, 247)\n(229, 66)\n(202, 405)\n(301, 302)\n(266, 208)\n(195, 265)\n(248, 324)\n(266, 259)\n(66, 341)\n(69, 52)\n(314, 224)\n(10, 11)\n(31, 332)\n(19, 206)\n(6, 415)\n(18, 239)\n(459, 142)\n(419, 354)\n(236, 129)\n(62, 209)\n(447, 177)\n(353, 283)\n(324, 269)\n(103, 222)\n(211, 263)\n(344, 255)\n(82, 339)\n(379, 47)\n(457, 27)\n(430, 429)\n(65, 107)\n(282, 281)\n(1, 2)\n(432, 161)\n(372, 119)\n(252, 305)\n(491, 78)\n(297, 254)\n(197, 251)\n(282, 468)\n(196, 43)\n(424, 344)\n(488, 359)\n(381, 382)\n(332, 450)\n(237, 238)\n"
    }
   ],
   "source": [
    "from sys import argv\n",
    "import re\n",
    "\n",
    "# open the file and get read to read data\n",
    "lines = open('edges.txt', \"r\");\n",
    "num_nodes, num_edges = lines.readline().split()\n",
    "num_nodes, num_edges = int(num_nodes), int(num_edges)\n",
    "\n",
    "graph = [[0]*vertices for _ in range(vertices)]\n",
    "for line in lines:\n",
    "    node_1, node_2, cost = line.split()\n",
    "    node_1, node_2, cost = int(node_1), int(node_2), int(cost)\n",
    "    graph[node_1-1][node_2-1] = cost\n",
    "    graph[node_2-1][node_1-1] = cost\n",
    "\n",
    "\n",
    "T = set();\n",
    "X = set();\n",
    "\n",
    "X.add(0);\n",
    "total_cost = 0\n",
    "while len(X) != vertices:\n",
    "    crossing = set();\n",
    "    # for each element x in X, add the edge (x, k) to crossing if\n",
    "    # k is not in X\n",
    "    for x in X:\n",
    "        for k in range(vertices):\n",
    "            if k not in X and graph[x][k] != 0:\n",
    "                crossing.add((x, k))\n",
    "    # find the edge with the smallest weight in crossing\n",
    "    edge = sorted(crossing, key=lambda e:graph[e[0]][e[1]])[0];\n",
    "    cost = graph[edge[0]][edge[1]]\n",
    "    total_cost += cost\n",
    "    # add this edge to T\n",
    "    T.add(edge)\n",
    "    # add the new vertex to X\n",
    "    X.add(edge[1])\n",
    "#print the edges of the MST\n",
    "for edge in T:\n",
    "    print (edge)"
   ]
  },
  {
   "cell_type": "code",
   "execution_count": 163,
   "metadata": {},
   "outputs": [
    {
     "output_type": "execute_result",
     "data": {
      "text/plain": "-3612829"
     },
     "metadata": {},
     "execution_count": 163
    }
   ],
   "source": [
    "total_cost"
   ]
  },
  {
   "cell_type": "code",
   "execution_count": 194,
   "metadata": {},
   "outputs": [
    {
     "output_type": "error",
     "ename": "TypeError",
     "evalue": "loop of ufunc does not support argument 0 of type int which has no callable log2 method",
     "traceback": [
      "\u001b[1;31m---------------------------------------------------------------------------\u001b[0m",
      "\u001b[1;31mAttributeError\u001b[0m                            Traceback (most recent call last)",
      "\u001b[1;31mAttributeError\u001b[0m: 'int' object has no attribute 'log2'",
      "\nThe above exception was the direct cause of the following exception:\n",
      "\u001b[1;31mTypeError\u001b[0m                                 Traceback (most recent call last)",
      "\u001b[1;32m<ipython-input-194-fc7a310f9573>\u001b[0m in \u001b[0;36m<module>\u001b[1;34m\u001b[0m\n\u001b[0;32m      1\u001b[0m \u001b[0mlog\u001b[0m \u001b[1;33m=\u001b[0m \u001b[0mnp\u001b[0m\u001b[1;33m.\u001b[0m\u001b[0mlog2\u001b[0m\u001b[1;33m\u001b[0m\u001b[1;33m\u001b[0m\u001b[0m\n\u001b[1;32m----> 2\u001b[1;33m \u001b[0mlog\u001b[0m\u001b[1;33m(\u001b[0m\u001b[0mlog\u001b[0m\u001b[1;33m(\u001b[0m\u001b[0mlog\u001b[0m\u001b[1;33m(\u001b[0m\u001b[0mlog\u001b[0m\u001b[1;33m(\u001b[0m\u001b[0mlog\u001b[0m\u001b[1;33m(\u001b[0m\u001b[1;36m2\u001b[0m\u001b[1;33m**\u001b[0m\u001b[1;36m99\u001b[0m\u001b[1;33m)\u001b[0m\u001b[1;33m)\u001b[0m\u001b[1;33m)\u001b[0m\u001b[1;33m)\u001b[0m\u001b[1;33m)\u001b[0m\u001b[1;33m\u001b[0m\u001b[1;33m\u001b[0m\u001b[0m\n\u001b[0m",
      "\u001b[1;31mTypeError\u001b[0m: loop of ufunc does not support argument 0 of type int which has no callable log2 method"
     ]
    }
   ],
   "source": [
    "log = np.log2\n",
    "log(log(log(log(log(2**99)))))"
   ]
  },
  {
   "cell_type": "code",
   "execution_count": null,
   "metadata": {},
   "outputs": [],
   "source": []
  }
 ],
 "metadata": {
  "language_info": {
   "codemirror_mode": {
    "name": "ipython",
    "version": 3
   },
   "file_extension": ".py",
   "mimetype": "text/x-python",
   "name": "python",
   "nbconvert_exporter": "python",
   "pygments_lexer": "ipython3",
   "version": "3.8.0-final"
  },
  "orig_nbformat": 2,
  "kernelspec": {
   "name": "python38",
   "display_name": "Python 38"
  }
 },
 "nbformat": 4,
 "nbformat_minor": 2
}
