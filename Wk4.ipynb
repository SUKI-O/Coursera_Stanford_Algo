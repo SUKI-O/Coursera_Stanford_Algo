{
 "cells": [
  {
   "cell_type": "markdown",
   "metadata": {},
   "source": [
    "# Coursera Stanford Algorith Specialization\n",
    "## Course 2 Wk 4\n",
    "The goal of this problem is to implement a variant of the 2-SUM algorithm covered in this week's lectures.\n",
    "\n",
    "The file contains 1 million integers, both positive and negative (there might be some repetitions!).This is your array of integers, with the i_th row of the file specifying the i_th entry of the array.\n",
    "\n",
    "Your task is to compute the number of target values tt in the interval \\[-10000,10000\\] (inclusive) such that there are distinct numbers x,y in the input file that satisfy x+y=t. (NOTE: ensuring distinctness requires a one-line addition to the algorithm from lecture.)\n",
    "\n",
    "Write your numeric answer (an integer between 0 and 20001) in the space provided."
   ]
  },
  {
   "cell_type": "markdown",
   "metadata": {},
   "source": [
    "### Aproach\n",
    "1. Create a set containing all the integers in the file\n",
    "2. For each item x, check if y = t-x for t = range(-10000, 10000) and store the result in an array, res. \n",
    "3. Sum the res."
   ]
  },
  {
   "cell_type": "code",
   "execution_count": null,
   "metadata": {},
   "outputs": [],
   "source": [
    "import os\n",
    "os.chdir('C:\\\\Users\\\\ituki\\\\Documents\\\\Classes\\\\Coursera\\\\Coursera_Algo')\n",
    "filename = 'algo1-programming_prob-2sum.txt'\n",
    "txt = open(filename, 'r')\n",
    "A = set()\n",
    "for line in txt:\n",
    "    A.add(int(line.strip()))\n",
    "A_sorted = sorted(A)"
   ]
  },
  {
   "cell_type": "code",
   "execution_count": null,
   "metadata": {},
   "outputs": [],
   "source": [
    "res = 0\n",
    "for _ in range(len(A)):\n",
    "    x = A.pop()\n",
    "    A.add(x)\n",
    "    ys = {y for y in range(-1000-x, 1000-x+1)}\n",
    "    res += len(A&ys)\n"
   ]
  },
  {
   "cell_type": "code",
   "execution_count": null,
   "metadata": {},
   "outputs": [],
   "source": [
    "import bisect\n",
    "x = A_sorted[0]\n",
    "lower = bisect.bisect(A_sorted, -1000-x)\n",
    "upper = bisect.bisect_left(A_sorted, 1000-x)\n",
    "(lower, upper)"
   ]
  },
  {
   "cell_type": "code",
   "execution_count": null,
   "metadata": {
    "tags": []
   },
   "outputs": [],
   "source": [
    "import bisect\n",
    "num_set = set()\n",
    "with open(filename, 'r') as file:\n",
    "    for num in file.read().splitlines():\n",
    "        num = int(num)\n",
    "        num_set.add(num)\n",
    "\n",
    "num_list = sorted(num_set)\n",
    "targets = set()\n",
    "for num in num_list:\n",
    "    low = bisect.bisect_left(num_list, -10000-num)\n",
    "    high = bisect.bisect_right(num_list, 10000-num)\n",
    "    for num_2 in num_list[low:high]:\n",
    "        if num_2 != num:\n",
    "            targets.add(num+num_2)\n",
    "\n",
    "print(len(targets))"
   ]
  },
  {
   "cell_type": "code",
   "execution_count": null,
   "metadata": {},
   "outputs": [],
   "source": []
  }
 ],
 "metadata": {
  "language_info": {
   "codemirror_mode": {
    "name": "ipython",
    "version": 3
   },
   "file_extension": ".py",
   "mimetype": "text/x-python",
   "name": "python",
   "nbconvert_exporter": "python",
   "pygments_lexer": "ipython3",
   "version": "3.8.0-final"
  },
  "orig_nbformat": 2,
  "kernelspec": {
   "name": "python38",
   "display_name": "Python 38"
  }
 },
 "nbformat": 4,
 "nbformat_minor": 2
}