{
 "cells": [
  {
   "cell_type": "markdown",
   "metadata": {},
   "source": [
    "# Coursera Stanford Algorithm Specialization \n",
    "## Course 2\n",
    "### Programming Assignment #3\n",
    "The goal of this problem is to implement the \"Median Maintenance\" algorithm (covered in the Week 3 lecture on heap applications). The text file contains a list of the integers from 1 to 10000 in unsorted order; you should treat this as a stream of numbers, arriving one by one. Letting $x_i$ denote the ith number of the file, the kth median $m_k$ is defined as the median of the numbers $x_1,...,x_k$ (So, if k is odd, then $m_k$  is $((k+1)/2)((k+1)/2)$ th smallest number among $x_1,...,x_k$ if k is even, then $m_k$ is the $(k/2)(k/2)$th smallest number among $x_1,...,x_k$.)"
   ]
  },
  {
   "cell_type": "markdown",
   "metadata": {},
   "source": [
    "### Aproach\n",
    "1. Maintain two heap, smaller_heap (max_heap)and larger_heap (min_heap), each contains half (size = k/2) of nodes 1 to kth. \n",
    "2. If n is even, the median is the mean of two roots, if n is odd, the median is the root of heap that contains 2/k +1 elements."
   ]
  },
  {
   "cell_type": "code",
   "execution_count": 1,
   "metadata": {},
   "outputs": [],
   "source": [
    "# A Python program to demonstrate common binary heap operations \n",
    "\n",
    "# Import the heap functions from python library \n",
    "from heapq import heappush, heappop, heapify \n",
    "\n",
    "# heappop - pop and return the smallest element from heap \n",
    "# heappush - push the value item onto the heap, maintaining \n",
    "#\t\t\t heap invarient \n",
    "# heapify - transform list into heap, in place, in linear time \n",
    "\n",
    "# A class for Min Heap \n",
    "class MinHeap: \n",
    "\t\n",
    "# Constructor to initialize a heap \n",
    "    def __init__(self): \n",
    "        self.heap = []\n",
    "        self.size = 0 #len(self.heap)\n",
    "\n",
    "    def parent(self, i): \n",
    "        return (i-1)//2\n",
    "\n",
    "    # Inserts a new key 'k' \n",
    "    def insertKey(self, k): \n",
    "        self.size += 1\n",
    "        heappush(self.heap, k)\t\t \n",
    "\n",
    "    # Decrease value of key at index 'i' to new_val \n",
    "    # It is assumed that new_val is smaller than heap[i] \n",
    "    def decreaseKey(self, i, new_val): \n",
    "        self.heap[i] = new_val \n",
    "        while(i != 0 and self.heap[self.parent(i)] > self.heap[i]): \n",
    "        # Swap heap[i] with heap[parent(i)] \n",
    "            self.heap[i] , self.heap[self.parent(i)] = (self.heap[self.parent(i)], self.heap[i]) \n",
    "\n",
    "    # Method to remove minium element from min heap \n",
    "    def extractMin(self): \n",
    "        self.size += -1\n",
    "        return heappop(self.heap) \n",
    "\n",
    "    # This functon deletes key at index i. It first reduces \n",
    "    # value to minus infinite and then calls extractMin() \n",
    "    def deleteKey(self, i): \n",
    "        self.decreaseKey(i, float(\"-inf\")) \n",
    "        self.extractMin() \n",
    "\n",
    "    # Get the minimum element from the heap \n",
    "    def getMin(self): \n",
    "        return self.heap[0] \n",
    "\n"
   ]
  },
  {
   "cell_type": "code",
   "execution_count": 2,
   "metadata": {},
   "outputs": [],
   "source": [
    "# A Python program to demonstrate common binary heap operations \n",
    "# Import the heap functions from python library \n",
    "from heapq import heappush, heappop, heapify \n",
    "\n",
    "# A class for Max Heap (reversed MinHeap)\n",
    "class MaxHeap: \n",
    "\n",
    "    # Constructor to initialize a heap \n",
    "    def __init__(self): \n",
    "        self.heap = []\n",
    "        self.size = 0 #len(self.heap)\n",
    "\n",
    "    def parent(self, i):\n",
    "        return (i-1)//2\n",
    "\n",
    "    # Inserts a new key 'k' \n",
    "    def insertKey(self, k): \n",
    "        self.size += 1\n",
    "        heappush(self.heap, -k)\t\t \n",
    "\n",
    "    def increaseKey(self, i, new_val): \n",
    "        self.heap[i] = new_val \n",
    "        while(i != 0 and self.heap[self.parent(i)] < self.heap[i]): \n",
    "            # Swap heap[i] with heap[parent(i)] \n",
    "            self.heap[i] , self.heap[self.parent(i)] = ( \n",
    "            self.heap[self.parent(i)], self.heap[i]) \n",
    "            \n",
    "    def extractMax(self): \n",
    "        self.size += -1\n",
    "        return -heappop(self.heap) \n",
    "\n",
    "    def deleteKey(self, i):\n",
    "        self.increaseKey(i, float('inf'))\n",
    "        self.extractMax()\n",
    "\n",
    "    # Get the minimum element from the heap \n",
    "    def getMax(self):\n",
    "        return -self.heap[0] "
   ]
  },
  {
   "cell_type": "code",
   "execution_count": 3,
   "metadata": {},
   "outputs": [],
   "source": [
    "class Medians:\n",
    "    def __init__(self):\n",
    "        self.medians = []\n",
    "        self.largerHeap = MinHeap()\n",
    "        self.smallerHeap = MaxHeap()\n",
    "    \n",
    "    def Balance(self):\n",
    "        if self.smallerHeap.size > self.largerHeap.size:\n",
    "            self.largerHeap.insertKey(self.smallerHeap.extractMax())\n",
    "        if self.smallerHeap.size < self.largerHeap.size:\n",
    "            self.smallerHeap.insertKey(self.largerHeap.extractMin())\n",
    "\n",
    "    def insert(self, key):\n",
    "        if self.smallerHeap.size < 1:\n",
    "            self.smallerHeap.insertKey(key)\n",
    "        else:\n",
    "            largest_max = self.smallerHeap.getMax()\n",
    "            #largest_min = self.largerHeap.getMin()\n",
    "            if key <= largest_max:\n",
    "                self.smallerHeap.insertKey(key)\n",
    "            else:\n",
    "                self.largerHeap.insertKey(key)\n",
    "            self.Balance()\n",
    "\n",
    "    def get_median(self):\n",
    "        return self.smallerHeap.getMax()\n",
    "    \n",
    "    def kth_medians(self, arr):\n",
    "        for num in arr:\n",
    "            self.insert(num)\n",
    "            self.medians.append(self.get_median())\n",
    "            #print(self.smallerHeap.size,self.largerHeap.size )\n",
    "        return self.medians\n",
    "        \n"
   ]
  },
  {
   "cell_type": "code",
   "execution_count": 4,
   "metadata": {},
   "outputs": [
    {
     "output_type": "execute_result",
     "data": {
      "text/plain": "[6331, 2793, 1640, 9290, 225, 625, 6195, 2303, 5685, 1354]"
     },
     "metadata": {},
     "execution_count": 4
    }
   ],
   "source": [
    "import os\n",
    "os.chdir('C:\\\\Users\\\\ituki\\\\Documents\\\\Classes\\\\Coursera\\\\Coursera_Algo')\n",
    "nums = []\n",
    "for line in open('Median.txt', 'r'):\n",
    "    nums.append(int(line))\n",
    "nums[:10]"
   ]
  },
  {
   "cell_type": "code",
   "execution_count": 5,
   "metadata": {
    "tags": []
   },
   "outputs": [
    {
     "output_type": "execute_result",
     "data": {
      "text/plain": "[6331, 2793, 2793, 2793, 2793, 1640, 2793, 2303, 2793, 2303]"
     },
     "metadata": {},
     "execution_count": 5
    }
   ],
   "source": [
    "medians = Medians()\n",
    "res = medians.kth_medians(nums)\n",
    "res[:10]"
   ]
  },
  {
   "cell_type": "markdown",
   "metadata": {},
   "source": [
    "## Sanity Check "
   ]
  },
  {
   "cell_type": "code",
   "execution_count": 9,
   "metadata": {
    "tags": []
   },
   "outputs": [],
   "source": [
    "import numpy as np\n",
    "import math\n",
    "res_ = []\n",
    "for i in range(1,len(nums)-1):\n",
    "    curr = np.sort(nums[:i])\n",
    "    res_.append(curr[math.ceil(i/2)-1])"
   ]
  },
  {
   "cell_type": "code",
   "execution_count": 7,
   "metadata": {},
   "outputs": [
    {
     "output_type": "execute_result",
     "data": {
      "text/plain": "1213"
     },
     "metadata": {},
     "execution_count": 7
    }
   ],
   "source": [
    "sum(res)%10000"
   ]
  },
  {
   "cell_type": "code",
   "execution_count": 10,
   "metadata": {},
   "outputs": [
    {
     "output_type": "execute_result",
     "data": {
      "text/plain": "1213"
     },
     "metadata": {},
     "execution_count": 10
    }
   ],
   "source": [
    "sum(res_)%10000"
   ]
  },
  {
   "cell_type": "code",
   "execution_count": null,
   "metadata": {},
   "outputs": [],
   "source": []
  }
 ],
 "metadata": {
  "language_info": {
   "codemirror_mode": {
    "name": "ipython",
    "version": 3
   },
   "file_extension": ".py",
   "mimetype": "text/x-python",
   "name": "python",
   "nbconvert_exporter": "python",
   "pygments_lexer": "ipython3",
   "version": "3.8.0-final"
  },
  "orig_nbformat": 2,
  "kernelspec": {
   "name": "python38",
   "display_name": "Python 38"
  }
 },
 "nbformat": 4,
 "nbformat_minor": 2
}